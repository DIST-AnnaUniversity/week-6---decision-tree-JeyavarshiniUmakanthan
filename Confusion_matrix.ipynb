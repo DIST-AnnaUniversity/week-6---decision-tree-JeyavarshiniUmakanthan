{
  "nbformat": 4,
  "nbformat_minor": 0,
  "metadata": {
    "colab": {
      "provenance": []
    },
    "kernelspec": {
      "name": "python3",
      "display_name": "Python 3"
    },
    "language_info": {
      "name": "python"
    }
  },
  "cells": [
    {
      "cell_type": "code",
      "execution_count": 2,
      "metadata": {
        "id": "oQ6CP5FFJiRK"
      },
      "outputs": [],
      "source": [
        "import numpy\n",
        "import matplotlib.pyplot as plt\n",
        "from sklearn import metrics"
      ]
    },
    {
      "cell_type": "code",
      "source": [
        "actual = numpy.random.binomial(1,.9,size = 500)\n",
        "predicted = numpy.random.binomial(1,.9,size = 500)"
      ],
      "metadata": {
        "id": "t34blR_ELvwE"
      },
      "execution_count": 3,
      "outputs": []
    },
    {
      "cell_type": "code",
      "source": [
        "confusion_matrix = metrics.confusion_matrix(actual, predicted)"
      ],
      "metadata": {
        "id": "8hM6vQEjL1KS"
      },
      "execution_count": 4,
      "outputs": []
    },
    {
      "cell_type": "code",
      "source": [
        "cm_display = metrics.ConfusionMatrixDisplay(confusion_matrix = confusion_matrix, display_labels = [False, True])"
      ],
      "metadata": {
        "id": "jb-UDhv8L49v"
      },
      "execution_count": 5,
      "outputs": []
    },
    {
      "cell_type": "code",
      "source": [
        "cm_display.plot()\n",
        "plt.show()"
      ],
      "metadata": {
        "colab": {
          "base_uri": "https://localhost:8080/",
          "height": 279
        },
        "id": "yA6xfmHZL7OX",
        "outputId": "affddcac-0179-4853-e00c-02e939dfb2a5"
      },
      "execution_count": 6,
      "outputs": [
        {
          "output_type": "display_data",
          "data": {
            "text/plain": [
              "<Figure size 432x288 with 2 Axes>"
            ],
            "image/png": "[encoded data removed]"
          },
          "metadata": {
            "needs_background": "light"
          }
        }
      ]
    },
    {
      "cell_type": "code",
      "source": [
        "Accuracy = metrics.accuracy_score(actual, predicted)"
      ],
      "metadata": {
        "id": "Kga2vHmpMM6A"
      },
      "execution_count": 7,
      "outputs": []
    },
    {
      "cell_type": "code",
      "source": [
        "Precision = metrics.precision_score(actual, predicted)"
      ],
      "metadata": {
        "id": "fDVbCYEOMOOE"
      },
      "execution_count": 8,
      "outputs": []
    },
    {
      "cell_type": "code",
      "source": [
        "Sensitivity_recall = metrics.recall_score(actual, predicted)"
      ],
      "metadata": {
        "id": "Fy0rSUjRMSPs"
      },
      "execution_count": 9,
      "outputs": []
    },
    {
      "cell_type": "code",
      "source": [
        "Specificity = metrics.recall_score(actual, predicted, pos_label=0)"
      ],
      "metadata": {
        "id": "c2Ou05AgMUSY"
      },
      "execution_count": 10,
      "outputs": []
    },
    {
      "cell_type": "code",
      "source": [
        "F1_score = metrics.f1_score(actual, predicted)"
      ],
      "metadata": {
        "id": "BBFUdoFVMWHW"
      },
      "execution_count": 11,
      "outputs": []
    },
    {
      "cell_type": "code",
      "source": [
        "print({\"Accuracy\":Accuracy,\"Precision\":Precision,\"Sensitivity_recall\":Sensitivity_recall,\"Specificity\":Specificity,\"F1_score\":F1_score})"
      ],
      "metadata": {
        "colab": {
          "base_uri": "https://localhost:8080/"
        },
        "id": "hXcN19AzMYQ-",
        "outputId": "0ee002e6-a6a1-4d77-fccd-131128c8b171"
      },
      "execution_count": 20,
      "outputs": [
        {
          "output_type": "stream",
          "name": "stdout",
          "text": [
            "{'Accuracy': 0.866, 'Precision': 0.9206008583690987, 'Sensitivity_recall': 0.934640522875817, 'Specificity': 0.0975609756097561, 'F1_score': 0.9275675675675675}\n"
          ]
        }
      ]
    }
  ]
}