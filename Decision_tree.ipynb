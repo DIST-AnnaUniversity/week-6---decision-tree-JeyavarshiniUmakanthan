{
  "nbformat": 4,
  "nbformat_minor": 0,
  "metadata": {
    "colab": {
      "provenance": []
    },
    "kernelspec": {
      "name": "python3",
      "display_name": "Python 3"
    },
    "language_info": {
      "name": "python"
    }
  },
  "cells": [
    {
      "cell_type": "code",
      "execution_count": 48,
      "metadata": {
        "id": "NCmI_ZyxX6vI"
      },
      "outputs": [],
      "source": [
        "import pandas as pd\n",
        "from sklearn import tree\n",
        "from sklearn.tree import DecisionTreeClassifier\n",
        "import matplotlib.pyplot as plt"
      ]
    },
    {
      "cell_type": "code",
      "source": [
        "df = pd.read_csv('data.csv')"
      ],
      "metadata": {
        "id": "dnzubjVYC63T"
      },
      "execution_count": 49,
      "outputs": []
    },
    {
      "cell_type": "code",
      "source": [
        "a = { 'vhigh' : 0, 'high' : 1, 'med':2, 'low':3 }\n",
        "df['Buying'] = df['Buying'].map(a)"
      ],
      "metadata": {
        "id": "F_oKGDjSDnTr"
      },
      "execution_count": 50,
      "outputs": []
    },
    {
      "cell_type": "code",
      "source": [
        "b = { 'vhigh' : 0, 'high' : 1, 'med':2, 'low':3 }\n",
        "df['Maint'] = df['Maint'].map(b)"
      ],
      "metadata": {
        "id": "2O4OOP3sD3Xo"
      },
      "execution_count": 51,
      "outputs": []
    },
    {
      "cell_type": "code",
      "source": [
        "c = { '2':2,'4':4,'more':5}\n",
        "df['Persons'] = df['Persons'].map(c)"
      ],
      "metadata": {
        "id": "9kra6QlgFzOv"
      },
      "execution_count": 52,
      "outputs": []
    },
    {
      "cell_type": "code",
      "source": [
        "d = { 'small':2, 'med':1, 'big':0 }\n",
        "df['Lug_boot'] = df['Lug_boot'].map(d)"
      ],
      "metadata": {
        "id": "YzoAglHoD-8r"
      },
      "execution_count": 53,
      "outputs": []
    },
    {
      "cell_type": "code",
      "source": [
        "e = { 'high':0, 'med':1, 'low':2 }\n",
        "df['Safety'] = df['Safety'].map(e)"
      ],
      "metadata": {
        "id": "keTC0VoxEHC-"
      },
      "execution_count": 54,
      "outputs": []
    },
    {
      "cell_type": "code",
      "source": [
        "features = ['Buying','Maint','Doors','Persons','Lug_boot','Safety']"
      ],
      "metadata": {
        "id": "RNvckt6SE6yV"
      },
      "execution_count": 55,
      "outputs": []
    },
    {
      "cell_type": "code",
      "source": [
        "x = df[features]\n",
        "y = df['Class']"
      ],
      "metadata": {
        "id": "8HPGc1XuFYHb"
      },
      "execution_count": 56,
      "outputs": []
    },
    {
      "cell_type": "code",
      "source": [
        "print(x.head(4))\n",
        "print('\\n',y.head(4))"
      ],
      "metadata": {
        "colab": {
          "base_uri": "https://localhost:8080/"
        },
        "id": "UCOiK52vFcd7",
        "outputId": "02a1a9a3-6baf-4748-d231-051b97fa3b25"
      },
      "execution_count": 57,
      "outputs": [
        {
          "output_type": "stream",
          "name": "stdout",
          "text": [
            "   Buying  Maint  Doors  Persons  Lug_boot  Safety\n",
            "0       0      0      2        2         2       2\n",
            "1       0      0      2        2         2       1\n",
            "2       0      0      2        2         2       0\n",
            "3       0      0      2        2         1       2\n",
            "\n",
            " 0    unacc\n",
            "1    unacc\n",
            "2    unacc\n",
            "3    unacc\n",
            "Name: Class, dtype: object\n"
          ]
        }
      ]
    },
    {
      "cell_type": "code",
      "source": [
        "dtree = DecisionTreeClassifier()\n",
        "dtree = dtree.fit(x, y)"
      ],
      "metadata": {
        "id": "kqQ3saHKFgyb"
      },
      "execution_count": 58,
      "outputs": []
    },
    {
      "cell_type": "code",
      "source": [
        "tree.plot_tree(dtree, feature_names=features)\n",
        "plt.show()"
      ],
      "metadata": {
        "colab": {
          "base_uri": "https://localhost:8080/",
          "height": 248
        },
        "id": "cNMpw2zeHEVe",
        "outputId": "aac7b77a-26f7-4228-ddcd-b63bbc6fe2bf"
      },
      "execution_count": 59,
      "outputs": [
        {
          "output_type": "display_data",
          "data": {
            "text/plain": [
              "<Figure size 432x288 with 1 Axes>"
            ],
            "image/png": "[encoded data removed]"
          },
          "metadata": {
            "needs_background": "light"
          }
        }
      ]
    },
    {
      "cell_type": "code",
      "source": [
        "print('predicting for values: [1,2,2,5,4,1]\\nResult - ',dtree.predict([[1,2,2,5,4,1]]))"
      ],
      "metadata": {
        "colab": {
          "base_uri": "https://localhost:8080/"
        },
        "id": "ThiGdw0VHL78",
        "outputId": "f64662d8-af7f-4d5c-9d8a-13e14c98d9e2"
      },
      "execution_count": 62,
      "outputs": [
        {
          "output_type": "stream",
          "name": "stdout",
          "text": [
            "predicting for values: [1,2,2,5,4,1]\n",
            "Result -  ['acc']\n"
          ]
        },
        {
          "output_type": "stream",
          "name": "stderr",
          "text": [
            "/usr/local/lib/python3.8/dist-packages/sklearn/base.py:450: UserWarning: X does not have valid feature names, but DecisionTreeClassifier was fitted with feature names\n",
            "  warnings.warn(\n"
          ]
        }
      ]
    }
  ]
}