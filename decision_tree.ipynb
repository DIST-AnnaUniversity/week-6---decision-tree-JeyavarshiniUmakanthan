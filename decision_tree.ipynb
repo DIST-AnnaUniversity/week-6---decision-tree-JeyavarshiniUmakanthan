{
  "nbformat": 4,
  "nbformat_minor": 0,
  "metadata": {
    "colab": {
      "provenance": []
    },
    "kernelspec": {
      "name": "python3",
      "display_name": "Python 3"
    },
    "language_info": {
      "name": "python"
    }
  },
  "cells": [
    {
      "cell_type": "code",
      "execution_count": 27,
      "metadata": {
        "id": "W_pjUK7HKRqi"
      },
      "outputs": [],
      "source": [
        "import pandas as pd\n",
        "from sklearn import tree\n",
        "from sklearn.tree import DecisionTreeClassifier\n",
        "import matplotlib.pyplot as plt"
      ]
    },
    {
      "cell_type": "code",
      "source": [
        "df = pd.read_csv('./car_evaluation.csv')"
      ],
      "metadata": {
        "id": "C80IJ03N-8ZL"
      },
      "execution_count": 28,
      "outputs": []
    },
    {
      "cell_type": "code",
      "source": [
        "a = { 'vhigh' : 0, 'high' : 1, 'med':2, 'low':3 }\n",
        "df['buying price'] = df['buying price'].map(a)"
      ],
      "metadata": {
        "id": "8ka-_T3b_N_K"
      },
      "execution_count": 29,
      "outputs": []
    },
    {
      "cell_type": "code",
      "source": [
        "b = { 'vhigh' : 0, 'high' : 1, 'med':2, 'low':3 }\n",
        "df['maintenance'] = df['maintenance'].map(b)"
      ],
      "metadata": {
        "id": "ETbbGFFa_ZSr"
      },
      "execution_count": 30,
      "outputs": []
    },
    {
      "cell_type": "code",
      "source": [
        "c = { 'high':0, 'med':1, 'low':2 }\n",
        "df['safety'] = df['safety'].map(c)"
      ],
      "metadata": {
        "id": "2V0-Dm0L_eeb"
      },
      "execution_count": 31,
      "outputs": []
    },
    {
      "cell_type": "code",
      "source": [
        "features = ['buying price','maintenance','no of doors','no of persons','safety']"
      ],
      "metadata": {
        "id": "Gq7rzcFl_oDT"
      },
      "execution_count": 32,
      "outputs": []
    },
    {
      "cell_type": "code",
      "source": [
        "x = df[features]\n",
        "y = df['decision']"
      ],
      "metadata": {
        "id": "rRi3gW9g_psC"
      },
      "execution_count": 33,
      "outputs": []
    },
    {
      "cell_type": "code",
      "source": [
        "print(x.head(4))\n",
        "print('\\n',y.head(4))"
      ],
      "metadata": {
        "colab": {
          "base_uri": "https://localhost:8080/"
        },
        "id": "70M3jG4w_t4r",
        "outputId": "93a998fc-18c9-43cd-a507-c17e38c6b67f"
      },
      "execution_count": 34,
      "outputs": [
        {
          "output_type": "stream",
          "name": "stdout",
          "text": [
            "   buying price  maintenance  no of doors  no of persons  safety\n",
            "0             0            0            2              2       2\n",
            "1             0            0            2              2       1\n",
            "2             0            0            2              2       0\n",
            "3             0            0            2              2       2\n",
            "\n",
            " 0    unacc\n",
            "1    unacc\n",
            "2    unacc\n",
            "3    unacc\n",
            "Name: decision, dtype: object\n"
          ]
        }
      ]
    },
    {
      "cell_type": "code",
      "source": [
        "dtree = DecisionTreeClassifier()\n",
        "dtree = dtree.fit(x, y)"
      ],
      "metadata": {
        "id": "Z_9Pbp0O_yVz"
      },
      "execution_count": 35,
      "outputs": []
    },
    {
      "cell_type": "code",
      "source": [
        "tree.plot_tree(dtree, feature_names=features)\n",
        "plt.show()"
      ],
      "metadata": {
        "colab": {
          "base_uri": "https://localhost:8080/",
          "height": 248
        },
        "id": "sH93d6iP_1K7",
        "outputId": "0cc3cf76-fffa-46ba-ef43-081e15a05936"
      },
      "execution_count": 36,
      "outputs": [
        {
          "output_type": "display_data",
          "data": {
            "text/plain": [
              "<Figure size 432x288 with 1 Axes>"
            ],
            "image/png": "[encoded data removed]"
          },
          "metadata": {
            "needs_background": "light"
          }
        }
      ]
    },
    {
      "cell_type": "code",
      "source": [
        "print('predicting for values: [1,2,3,3,1]\\nResult - ',dtree.predict([[1,2,3,3,1]]))"
      ],
      "metadata": {
        "colab": {
          "base_uri": "https://localhost:8080/"
        },
        "id": "fBvRZEie_4fq",
        "outputId": "1beeac05-4002-440e-9394-b02d4ab584a2"
      },
      "execution_count": 37,
      "outputs": [
        {
          "output_type": "stream",
          "name": "stdout",
          "text": [
            "predicting for values: [1,2,3,3,1]\n",
            "Result -  ['unacc']\n"
          ]
        },
        {
          "output_type": "stream",
          "name": "stderr",
          "text": [
            "/usr/local/lib/python3.8/dist-packages/sklearn/base.py:450: UserWarning: X does not have valid feature names, but DecisionTreeClassifier was fitted with feature names\n",
            "  warnings.warn(\n"
          ]
        }
      ]
    }
  ]
}